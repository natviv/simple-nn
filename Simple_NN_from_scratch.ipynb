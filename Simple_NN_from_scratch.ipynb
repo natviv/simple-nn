{
  "cells": [
    {
      "cell_type": "markdown",
      "metadata": {
        "id": "view-in-github",
        "colab_type": "text"
      },
      "source": [
        "<a href=\"https://colab.research.google.com/github/natviv/simple-nn/blob/main/Simple_NN_from_scratch.ipynb\" target=\"_parent\"><img src=\"https://colab.research.google.com/assets/colab-badge.svg\" alt=\"Open In Colab\"/></a>"
      ]
    },
    {
      "cell_type": "code",
      "source": [
        "import numpy as np\n",
        "W = np.eye(3)\n",
        "x = np.arange(3)\n",
        "\n",
        "print(f\"W shape {W.shape}\")\n",
        "print(f\"x shape {x.shape}\")\n",
        "print(f\"x {x}\")\n",
        "print(f\"W.x {np.dot(W, x)}\")\n",
        "\n",
        "\n",
        "def sigmoid(W, x):\n",
        "  return 1/(1 + np.exp(-np.dot(W, x)))\n",
        "\n",
        "\n",
        "z = sigmoid(W, x)\n",
        "print(f\"z {z}\")"
      ],
      "metadata": {
        "id": "vSZdWvOLBwJx",
        "colab": {
          "base_uri": "https://localhost:8080/"
        },
        "outputId": "a72f10d7-85aa-4b58-a77d-eeba47a8fb7e"
      },
      "execution_count": null,
      "outputs": [
        {
          "output_type": "stream",
          "name": "stdout",
          "text": [
            "W shape (3, 3)\n",
            "x shape (3,)\n",
            "x [0 1 2]\n",
            "W.x [0. 1. 2.]\n",
            "[0.5        0.73105858 0.88079708]\n"
          ]
        }
      ]
    },
    {
      "cell_type": "code",
      "source": [
        "# z = sigma(W*x)\n",
        "# g = z*(1-z)\n",
        "# dx = WT.(g)\n",
        "# dw = np.outer(g, x)"
      ],
      "metadata": {
        "id": "ZA3Kohq7LUX7"
      },
      "execution_count": null,
      "outputs": []
    }
  ],
  "metadata": {
    "colab": {
      "collapsed_sections": [],
      "name": "Simple NN from scratch",
      "toc_visible": true,
      "provenance": [],
      "include_colab_link": true
    },
    "kernelspec": {
      "display_name": "Python 3",
      "name": "python3"
    }
  },
  "nbformat": 4,
  "nbformat_minor": 0
}